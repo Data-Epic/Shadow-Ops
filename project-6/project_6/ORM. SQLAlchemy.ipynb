{
 "cells": [
  {
   "cell_type": "code",
   "execution_count": 11,
   "id": "d4a70e00",
   "metadata": {},
   "outputs": [
    {
     "name": "stdout",
     "output_type": "stream",
     "text": [
      "^C\n",
      "Note: you may need to restart the kernel to use updated packages.\n"
     ]
    }
   ],
   "source": [
    "pip install sqlalchemy"
   ]
  },
  {
   "cell_type": "code",
   "execution_count": 13,
   "id": "142bcd53",
   "metadata": {},
   "outputs": [],
   "source": [
    "from sqlalchemy import create_engine, ForeignKey, Column, String, Integer, CHAR, Date, DateTime, Float\n",
    "from sqlalchemy import PrimaryKeyConstraint\n",
    "from sqlalchemy.ext.declarative import declarative_base\n",
    "from sqlalchemy.ext.indexable import index_property"
   ]
  },
  {
   "cell_type": "code",
   "execution_count": 2,
   "id": "6542edd3",
   "metadata": {},
   "outputs": [],
   "source": [
    "from sqlalchemy.orm import sessionmaker"
   ]
  },
  {
   "cell_type": "code",
   "execution_count": 3,
   "id": "6ddfbead",
   "metadata": {},
   "outputs": [],
   "source": [
    "import pandas as pd"
   ]
  },
  {
   "cell_type": "code",
   "execution_count": 4,
   "id": "d33f927a",
   "metadata": {},
   "outputs": [],
   "source": [
    "Base = declarative_base()\n",
    "engine = create_engine('sqlite:///database.db')"
   ]
  },
  {
   "cell_type": "code",
   "execution_count": 5,
   "id": "abfe6992",
   "metadata": {},
   "outputs": [],
   "source": [
    "df = pd.read_parquet(r'C:\\Users\\Dell\\Downloads\\cleaned_artwork_data.parquet')"
   ]
  },
  {
   "cell_type": "code",
   "execution_count": 6,
   "id": "4a4b3fd5",
   "metadata": {},
   "outputs": [
    {
     "data": {
      "text/html": [
       "<div>\n",
       "<style scoped>\n",
       "    .dataframe tbody tr th:only-of-type {\n",
       "        vertical-align: middle;\n",
       "    }\n",
       "\n",
       "    .dataframe tbody tr th {\n",
       "        vertical-align: top;\n",
       "    }\n",
       "\n",
       "    .dataframe thead th {\n",
       "        text-align: right;\n",
       "    }\n",
       "</style>\n",
       "<table border=\"1\" class=\"dataframe\">\n",
       "  <thead>\n",
       "    <tr style=\"text-align: right;\">\n",
       "      <th></th>\n",
       "      <th>ConstituentID</th>\n",
       "      <th>DisplayName</th>\n",
       "      <th>Nationality</th>\n",
       "      <th>Gender</th>\n",
       "      <th>BeginDate</th>\n",
       "      <th>EndDate</th>\n",
       "      <th>Wiki QID</th>\n",
       "      <th>ULAN</th>\n",
       "      <th>Title</th>\n",
       "      <th>Medium</th>\n",
       "      <th>...</th>\n",
       "      <th>Cataloged</th>\n",
       "      <th>ObjectID</th>\n",
       "      <th>URL</th>\n",
       "      <th>ThumbnailURL</th>\n",
       "      <th>Height (cm)</th>\n",
       "      <th>Width (cm)</th>\n",
       "      <th>completedDate</th>\n",
       "      <th>DateAcquired_year</th>\n",
       "      <th>DateAcquired_month</th>\n",
       "      <th>DateAcquired_month_day</th>\n",
       "    </tr>\n",
       "  </thead>\n",
       "  <tbody>\n",
       "    <tr>\n",
       "      <th>0</th>\n",
       "      <td>1</td>\n",
       "      <td>Robert Arneson</td>\n",
       "      <td>American</td>\n",
       "      <td>Male</td>\n",
       "      <td>1930</td>\n",
       "      <td>1992</td>\n",
       "      <td>Unknown</td>\n",
       "      <td>0.0</td>\n",
       "      <td>Study for Head Bath</td>\n",
       "      <td>Conté crayon and pencil on paper</td>\n",
       "      <td>...</td>\n",
       "      <td>Y</td>\n",
       "      <td>33599.0</td>\n",
       "      <td>http://www.moma.org/collection/works/33599</td>\n",
       "      <td>http://www.moma.org/media/W1siZiIsIjMwODE4MyJd...</td>\n",
       "      <td>105.7</td>\n",
       "      <td>75.9</td>\n",
       "      <td>1977.0</td>\n",
       "      <td>1981</td>\n",
       "      <td>April</td>\n",
       "      <td>Tuesday</td>\n",
       "    </tr>\n",
       "    <tr>\n",
       "      <th>1</th>\n",
       "      <td>1</td>\n",
       "      <td>Robert Arneson</td>\n",
       "      <td>American</td>\n",
       "      <td>Male</td>\n",
       "      <td>1930</td>\n",
       "      <td>1992</td>\n",
       "      <td>Unknown</td>\n",
       "      <td>0.0</td>\n",
       "      <td>General Nuke</td>\n",
       "      <td>Lithograph</td>\n",
       "      <td>...</td>\n",
       "      <td>Y</td>\n",
       "      <td>64139.0</td>\n",
       "      <td>http://www.moma.org/collection/works/64139</td>\n",
       "      <td>Unknown</td>\n",
       "      <td>80.5</td>\n",
       "      <td>59.2</td>\n",
       "      <td>1986.0</td>\n",
       "      <td>1997</td>\n",
       "      <td>May</td>\n",
       "      <td>Wednesday</td>\n",
       "    </tr>\n",
       "    <tr>\n",
       "      <th>2</th>\n",
       "      <td>2</td>\n",
       "      <td>Doroteo Arnaiz</td>\n",
       "      <td>Spanish</td>\n",
       "      <td>Male</td>\n",
       "      <td>1936</td>\n",
       "      <td>0</td>\n",
       "      <td>Unknown</td>\n",
       "      <td>0.0</td>\n",
       "      <td>BAS-RELIEF</td>\n",
       "      <td>Etching, printed in color</td>\n",
       "      <td>...</td>\n",
       "      <td>N</td>\n",
       "      <td>61629.0</td>\n",
       "      <td>Unknown</td>\n",
       "      <td>Unknown</td>\n",
       "      <td>54.7</td>\n",
       "      <td>39.7</td>\n",
       "      <td>2022.0</td>\n",
       "      <td>1965</td>\n",
       "      <td>March</td>\n",
       "      <td>Tuesday</td>\n",
       "    </tr>\n",
       "    <tr>\n",
       "      <th>3</th>\n",
       "      <td>3</td>\n",
       "      <td>Bill Arnold</td>\n",
       "      <td>American</td>\n",
       "      <td>Male</td>\n",
       "      <td>1941</td>\n",
       "      <td>0</td>\n",
       "      <td>Unknown</td>\n",
       "      <td>0.0</td>\n",
       "      <td>Honey under Sink</td>\n",
       "      <td>Microfilm reader-printer machine print</td>\n",
       "      <td>...</td>\n",
       "      <td>Y</td>\n",
       "      <td>45972.0</td>\n",
       "      <td>http://www.moma.org/collection/works/45972</td>\n",
       "      <td>http://www.moma.org/media/W1siZiIsIjI1ODcxNiJd...</td>\n",
       "      <td>38.1</td>\n",
       "      <td>58.2</td>\n",
       "      <td>1971.0</td>\n",
       "      <td>1972</td>\n",
       "      <td>March</td>\n",
       "      <td>Tuesday</td>\n",
       "    </tr>\n",
       "    <tr>\n",
       "      <th>4</th>\n",
       "      <td>3</td>\n",
       "      <td>Bill Arnold</td>\n",
       "      <td>American</td>\n",
       "      <td>Male</td>\n",
       "      <td>1941</td>\n",
       "      <td>0</td>\n",
       "      <td>Unknown</td>\n",
       "      <td>0.0</td>\n",
       "      <td>Honey under Chair</td>\n",
       "      <td>Microfilm reader-printer machine print</td>\n",
       "      <td>...</td>\n",
       "      <td>Y</td>\n",
       "      <td>45997.0</td>\n",
       "      <td>http://www.moma.org/collection/works/45997</td>\n",
       "      <td>http://www.moma.org/media/W1siZiIsIjI1ODcxNyJd...</td>\n",
       "      <td>38.1</td>\n",
       "      <td>57.8</td>\n",
       "      <td>1971.0</td>\n",
       "      <td>1972</td>\n",
       "      <td>March</td>\n",
       "      <td>Tuesday</td>\n",
       "    </tr>\n",
       "  </tbody>\n",
       "</table>\n",
       "<p>5 rows × 26 columns</p>\n",
       "</div>"
      ],
      "text/plain": [
       "   ConstituentID     DisplayName Nationality Gender  BeginDate  EndDate  \\\n",
       "0              1  Robert Arneson    American   Male       1930     1992   \n",
       "1              1  Robert Arneson    American   Male       1930     1992   \n",
       "2              2  Doroteo Arnaiz     Spanish   Male       1936        0   \n",
       "3              3     Bill Arnold    American   Male       1941        0   \n",
       "4              3     Bill Arnold    American   Male       1941        0   \n",
       "\n",
       "  Wiki QID  ULAN                Title                                  Medium  \\\n",
       "0  Unknown   0.0  Study for Head Bath        Conté crayon and pencil on paper   \n",
       "1  Unknown   0.0         General Nuke                              Lithograph   \n",
       "2  Unknown   0.0           BAS-RELIEF               Etching, printed in color   \n",
       "3  Unknown   0.0     Honey under Sink  Microfilm reader-printer machine print   \n",
       "4  Unknown   0.0    Honey under Chair  Microfilm reader-printer machine print   \n",
       "\n",
       "   ... Cataloged ObjectID                                         URL  \\\n",
       "0  ...         Y  33599.0  http://www.moma.org/collection/works/33599   \n",
       "1  ...         Y  64139.0  http://www.moma.org/collection/works/64139   \n",
       "2  ...         N  61629.0                                     Unknown   \n",
       "3  ...         Y  45972.0  http://www.moma.org/collection/works/45972   \n",
       "4  ...         Y  45997.0  http://www.moma.org/collection/works/45997   \n",
       "\n",
       "                                        ThumbnailURL Height (cm) Width (cm)  \\\n",
       "0  http://www.moma.org/media/W1siZiIsIjMwODE4MyJd...       105.7       75.9   \n",
       "1                                            Unknown        80.5       59.2   \n",
       "2                                            Unknown        54.7       39.7   \n",
       "3  http://www.moma.org/media/W1siZiIsIjI1ODcxNiJd...        38.1       58.2   \n",
       "4  http://www.moma.org/media/W1siZiIsIjI1ODcxNyJd...        38.1       57.8   \n",
       "\n",
       "  completedDate  DateAcquired_year DateAcquired_month DateAcquired_month_day  \n",
       "0        1977.0               1981              April                Tuesday  \n",
       "1        1986.0               1997                May              Wednesday  \n",
       "2        2022.0               1965              March                Tuesday  \n",
       "3        1971.0               1972              March                Tuesday  \n",
       "4        1971.0               1972              March                Tuesday  \n",
       "\n",
       "[5 rows x 26 columns]"
      ]
     },
     "execution_count": 6,
     "metadata": {},
     "output_type": "execute_result"
    }
   ],
   "source": [
    "df.head()"
   ]
  },
  {
   "cell_type": "code",
   "execution_count": 8,
   "id": "da492f79",
   "metadata": {},
   "outputs": [
    {
     "data": {
      "text/plain": [
       "Index(['ConstituentID', 'DisplayName', 'Nationality', 'Gender', 'BeginDate',\n",
       "       'EndDate', 'Wiki QID', 'ULAN', 'Title', 'Medium', 'Dimensions',\n",
       "       'CreditLine', 'AccessionNumber', 'Classification', 'Department',\n",
       "       'DateAcquired', 'Cataloged', 'ObjectID', 'URL', 'ThumbnailURL',\n",
       "       'Height (cm)', 'Width (cm)', 'completedDate', 'DateAcquired_year',\n",
       "       'DateAcquired_month', 'DateAcquired_month_day'],\n",
       "      dtype='object')"
      ]
     },
     "execution_count": 8,
     "metadata": {},
     "output_type": "execute_result"
    }
   ],
   "source": [
    "df.columns"
   ]
  },
  {
   "cell_type": "code",
   "execution_count": 14,
   "id": "552894a4",
   "metadata": {},
   "outputs": [
    {
     "name": "stderr",
     "output_type": "stream",
     "text": [
      "C:\\Users\\Dell\\AppData\\Local\\Temp\\ipykernel_11616\\1448991644.py:1: SAWarning: Table 'artwork' specifies columns 'ConstituentID' as primary_key=True, not matching locally specified columns 'AccessionNumber', 'DisplayName'; setting the current primary key columns to 'AccessionNumber', 'DisplayName'. This warning may become an exception in a future release\n",
      "  class Artwork(Base):\n"
     ]
    }
   ],
   "source": [
    "class Artwork(Base):\n",
    "    __tablename__ = 'artwork'\n",
    "\n",
    "    ConstituentID = Column(Integer, primary_key=True)\n",
    "    DisplayName = Column(String, nullable=False)\n",
    "    Nationality = Column(String)\n",
    "    Gender = Column(String)\n",
    "    BeginDate = Column(Date)\n",
    "    EndDate = Column(Date)\n",
    "    Title = Column(String)\n",
    "    Medium = Column(String)\n",
    "    Dimensions = Column(String)\n",
    "    AccessionNumber = Column(String, unique=True)\n",
    "    Classification = Column(String)\n",
    "    Department = Column(String)\n",
    "    DateAcquired = Column(DateTime)\n",
    "    ObjectID = Column(Integer)\n",
    "    Height_cm = Column(Float)\n",
    "    Width_cm = Column(Float)\n",
    "    completedDate = Column(DateTime)\n",
    "    DateAcquired_year = Column(Integer)\n",
    "    DateAcquired_month = Column(Integer)\n",
    "    DateAcquired_month_day = Column(Integer)\n",
    "\n",
    "    # Index for frequently queried columns\n",
    "    index1 = index_property('ConstituentID_DisplayName_index', ConstituentID, DisplayName)\n",
    "\n",
    "    # Composite key constraint\n",
    "    __table_args__ = (PrimaryKeyConstraint('AccessionNumber', 'DisplayName'),)\n",
    "\n"
   ]
  },
  {
   "cell_type": "code",
   "execution_count": 15,
   "id": "5b89df1e",
   "metadata": {},
   "outputs": [
    {
     "ename": "SyntaxError",
     "evalue": "invalid syntax (2120707769.py, line 1)",
     "output_type": "error",
     "traceback": [
      "\u001b[1;36m  File \u001b[1;32m\"C:\\Users\\Dell\\AppData\\Local\\Temp\\ipykernel_11616\\2120707769.py\"\u001b[1;36m, line \u001b[1;32m1\u001b[0m\n\u001b[1;33m    SELECT artist, COUNT(*) AS artwork_count\u001b[0m\n\u001b[1;37m           ^\u001b[0m\n\u001b[1;31mSyntaxError\u001b[0m\u001b[1;31m:\u001b[0m invalid syntax\n"
     ]
    }
   ],
   "source": [
    "SELECT artist, COUNT(*) AS artwork_count\n",
    "FROM artwork\n",
    "GROUP BY artist\n",
    "ORDER BY artwork_count DESC\n",
    "LIMIT 10;\n"
   ]
  }
 ],
 "metadata": {
  "kernelspec": {
   "display_name": "Python 3 (ipykernel)",
   "language": "python",
   "name": "python3"
  },
  "language_info": {
   "codemirror_mode": {
    "name": "ipython",
    "version": 3
   },
   "file_extension": ".py",
   "mimetype": "text/x-python",
   "name": "python",
   "nbconvert_exporter": "python",
   "pygments_lexer": "ipython3",
   "version": "3.9.13"
  }
 },
 "nbformat": 4,
 "nbformat_minor": 5
}
